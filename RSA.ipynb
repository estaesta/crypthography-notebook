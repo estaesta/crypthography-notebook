{
  "nbformat": 4,
  "nbformat_minor": 0,
  "metadata": {
    "colab": {
      "provenance": []
    },
    "kernelspec": {
      "name": "python3",
      "display_name": "Python 3"
    },
    "language_info": {
      "name": "python"
    }
  },
  "cells": [
    {
      "cell_type": "markdown",
      "source": [
        "# RSA\n",
        "Algoritma RSA merupakan salah satu algoritma enkripsi asimetris.\n",
        "\n",
        "pesan dienkripsi menggunakan public key kemudian dapat didekripsi menggunakan private key."
      ],
      "metadata": {
        "id": "_Rn6BpYH8pPa"
      }
    },
    {
      "cell_type": "markdown",
      "source": [
        "## Fungsi key generation"
      ],
      "metadata": {
        "id": "6Fzkyfga8szq"
      }
    },
    {
      "cell_type": "markdown",
      "source": [
        "untuk membuat key pilih dua bilangan prima p dan q\n",
        "\n",
        "hitung n = p * q\n",
        "\n",
        "hitung totient = (p-1) * (q-1)\n",
        "\n",
        "pilih bilangan e yang relatif prima dengan totient\n",
        ", syarat: \n",
        "1. 1 < e < totiient\n",
        "2. gcd(e, totient) = 1\n",
        "\n",
        "\n",
        "tentukan d dimana\n",
        "\n",
        "d * e mod totient = 1\n",
        "\n",
        "maka didapat,\n",
        "\n",
        "public key = (n, e)\n",
        "\n",
        "private key = (n, d)\n",
        "\n"
      ],
      "metadata": {
        "id": "85phLEW39qD6"
      }
    },
    {
      "cell_type": "code",
      "execution_count": 14,
      "metadata": {
        "id": "RYaoUZC_8XbS"
      },
      "outputs": [],
      "source": [
        "import random\n",
        "\n",
        "\n",
        "# fungsi untuk membuat key\n",
        "def keyGeneration(p, q):\n",
        "    # fungsi gcd\n",
        "    def gcd(a, b):\n",
        "        if b == 0:\n",
        "            return a\n",
        "        else:\n",
        "            return gcd(b, a % b)\n",
        "\n",
        "    n = p * q\n",
        "    totient = (p - 1) * (q - 1)\n",
        "\n",
        "    # menentukan kandidat untuk nilai e\n",
        "    kandidat = []\n",
        "    for i in range(2, totient):\n",
        "        if gcd(i, totient) == 1:\n",
        "            kandidat.append(i)\n",
        "\n",
        "    # memilih nilai e secara acak dari kandidat\n",
        "    e = random.choice(kandidat)\n",
        "\n",
        "    # menentukan nilai d\n",
        "    d = 0\n",
        "    while True:\n",
        "        if (d * e) % totient == 1:\n",
        "            break\n",
        "        else:\n",
        "            d += 1\n",
        "\n",
        "    publicKey = (n, e)\n",
        "    privateKey = (n, d)\n",
        "    return publicKey, privateKey"
      ]
    },
    {
      "cell_type": "markdown",
      "source": [
        "## Fungsi enkripsi RSA"
      ],
      "metadata": {
        "id": "LRubFbWr8yw7"
      }
    },
    {
      "cell_type": "markdown",
      "source": [
        "Enkripsi RSA dilakukan dengan memasukkan nilai n dan e pada publik key ke dalam fungsi\n",
        "\n",
        "$$c = (m^e) \\mod n$$"
      ],
      "metadata": {
        "id": "R8mFMDOG-84v"
      }
    },
    {
      "cell_type": "code",
      "source": [
        "def encRSA(m, publicKey):\n",
        "    # mengambil nilai n dan e dari publicKey\n",
        "    n, e = publicKey\n",
        "\n",
        "    # mengenkripsi pesan\n",
        "    c = (m ** e) % n\n",
        "    return c"
      ],
      "metadata": {
        "id": "Ubbg5v9h8jSr"
      },
      "execution_count": 15,
      "outputs": []
    },
    {
      "cell_type": "markdown",
      "source": [
        "## Fungsi dekripsi RSA"
      ],
      "metadata": {
        "id": "xzQB4-sE82HD"
      }
    },
    {
      "cell_type": "markdown",
      "source": [
        "Dekripsi RSA dilakukan dengan memasukkan nilai n dan d pada private key ke dalam fungsi\n",
        "$$m = (c^d) \\mod n$$"
      ],
      "metadata": {
        "id": "7D0RzjxN_kU9"
      }
    },
    {
      "cell_type": "code",
      "source": [
        "def decRSA(c, privateKey):\n",
        "    # mengambil nilai n dan d dari privateKey\n",
        "    n, d = privateKey\n",
        "\n",
        "    # mendekripsi pesan\n",
        "    m = (c ** d) % n\n",
        "    return m"
      ],
      "metadata": {
        "id": "UIF93eEA8kcg"
      },
      "execution_count": 16,
      "outputs": []
    },
    {
      "cell_type": "markdown",
      "source": [
        "## Percobaan"
      ],
      "metadata": {
        "id": "-cHwbBq5Asn1"
      }
    },
    {
      "cell_type": "code",
      "source": [
        "publicKey, privateKey = keyGeneration(11, 3)\n",
        "print(\"Public key:\", publicKey)\n",
        "print(\"Private key:\", privateKey)"
      ],
      "metadata": {
        "colab": {
          "base_uri": "https://localhost:8080/"
        },
        "id": "0_szxWdnAu_M",
        "outputId": "0e2448af-3605-4ac8-8994-8066c39ad8fb"
      },
      "execution_count": 32,
      "outputs": [
        {
          "output_type": "stream",
          "name": "stdout",
          "text": [
            "Public key: (33, 3)\n",
            "Private key: (33, 7)\n"
          ]
        }
      ]
    },
    {
      "cell_type": "code",
      "source": [
        "m = 7\n",
        "print(\"Plain text:\", m)"
      ],
      "metadata": {
        "colab": {
          "base_uri": "https://localhost:8080/"
        },
        "id": "WguJ0LZvBC28",
        "outputId": "4bc7afbf-e39e-498f-aa59-7d5ad460589a"
      },
      "execution_count": 33,
      "outputs": [
        {
          "output_type": "stream",
          "name": "stdout",
          "text": [
            "Plain text: 7\n"
          ]
        }
      ]
    },
    {
      "cell_type": "code",
      "source": [
        "c = encRSA(m, publicKey)\n",
        "print(\"Encrypted:\", c)"
      ],
      "metadata": {
        "colab": {
          "base_uri": "https://localhost:8080/"
        },
        "id": "0XWyrBkNA1Os",
        "outputId": "109f8e9c-a42b-44b3-e817-abca77816326"
      },
      "execution_count": 34,
      "outputs": [
        {
          "output_type": "stream",
          "name": "stdout",
          "text": [
            "Encrypted: 13\n"
          ]
        }
      ]
    },
    {
      "cell_type": "code",
      "source": [
        "m = decRSA(c, privateKey)\n",
        "print(\"Decrypted:\", m)"
      ],
      "metadata": {
        "colab": {
          "base_uri": "https://localhost:8080/"
        },
        "id": "iTCLmSsqA2P3",
        "outputId": "83f9303b-d9a1-43e3-b7d4-299254e0a92b"
      },
      "execution_count": 35,
      "outputs": [
        {
          "output_type": "stream",
          "name": "stdout",
          "text": [
            "Decrypted: 7\n"
          ]
        }
      ]
    }
  ]
}