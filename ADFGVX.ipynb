{
  "cells": [
    {
      "cell_type": "markdown",
      "source": [
        "Nama : Ahmad Foresta Azhar Zen\n",
        "\n",
        "NIM : 205150201111051"
      ],
      "metadata": {
        "id": "WcJk7xGYwmG0"
      }
    },
    {
      "cell_type": "markdown",
      "metadata": {
        "id": "QM9K8gbZ-mMJ"
      },
      "source": [
        "#ADFGVX"
      ]
    },
    {
      "cell_type": "markdown",
      "metadata": {
        "id": "6oLRbbdf_TJA"
      },
      "source": [
        "Kriptografi ADFGVX dilakukan menggunakan tabel ADFGVX yang berukuran 6x6. \n",
        "Plaintext pada ADFGVX dapat menggunakan karakter numerik.\n",
        "Setiap karakter pada plaintext, diubah sesuai baris dan kolom pada tabel ADFGVX.\n",
        "\n",
        "\n",
        "contoh tabel ADFGVX\n",
        "\n",
        "![tabel ADFGVX](https://crypto.interactive-maths.com/uploads/1/1/3/4/11345755/163060_orig.jpg)\n",
        "\n",
        "\n",
        "\n",
        "Setelah diuban, hasil tersebut kemudian dilakukan operasi seperti pada columnar transposision. Hasil tersebut disusun menjadi tabel dengan jumlah kolom sesuai dengan kunci. Apabila tedapat space yang kosong, maka diisi dengan padding 'X'. Kemudian kolomnya diurutkan berdasarkan urutan karakter pada kunci menurut alfabet. Lalu chipertext dihasilkan dari setiap karakter yang ditulis menurut kolom mulai dari kolom terkiri dari atas ke bawah."
      ]
    },
    {
      "cell_type": "code",
      "execution_count": 90,
      "metadata": {
        "id": "mRnvMiQ2TpCt"
      },
      "outputs": [],
      "source": [
        "tabelString = \"147regimntabcdfhjklopqsuvwxyz0235689\""
      ]
    },
    {
      "cell_type": "code",
      "execution_count": 91,
      "metadata": {
        "id": "JSFn4I8pYUNp"
      },
      "outputs": [],
      "source": [
        "import numpy as np\n",
        "import math\n",
        "\n",
        "# fungsi untuk membuat tabel dari string\n",
        "def makeTabel(tabelString):\n",
        "    if(len(tabelString)!=36):\n",
        "        print('tidak valid')\n",
        "        return\n",
        "    # mengubah menjadi huruf kapital\n",
        "    tabelString = tabelString.upper()\n",
        "    # mengubah menjadi array 6 x 6\n",
        "    tabel = np.array(list(tabelString)).reshape((6,6))\n",
        "    return tabel"
      ]
    },
    {
      "cell_type": "code",
      "execution_count": 92,
      "metadata": {
        "id": "YqTIwiIdZG6o"
      },
      "outputs": [],
      "source": [
        "tabel = makeTabel(tabelString)"
      ]
    },
    {
      "cell_type": "code",
      "source": [
        "tabel"
      ],
      "metadata": {
        "colab": {
          "base_uri": "https://localhost:8080/"
        },
        "id": "b0biU04vdkpT",
        "outputId": "0762a7c5-2a6c-4f2f-ea85-109f4ea9dc38"
      },
      "execution_count": 93,
      "outputs": [
        {
          "output_type": "execute_result",
          "data": {
            "text/plain": [
              "array([['1', '4', '7', 'R', 'E', 'G'],\n",
              "       ['I', 'M', 'N', 'T', 'A', 'B'],\n",
              "       ['C', 'D', 'F', 'H', 'J', 'K'],\n",
              "       ['L', 'O', 'P', 'Q', 'S', 'U'],\n",
              "       ['V', 'W', 'X', 'Y', 'Z', '0'],\n",
              "       ['2', '3', '5', '6', '8', '9']], dtype='<U1')"
            ]
          },
          "metadata": {},
          "execution_count": 93
        }
      ]
    },
    {
      "cell_type": "markdown",
      "source": [
        "## enkripsi"
      ],
      "metadata": {
        "id": "ZFXz-XrFx_d8"
      }
    },
    {
      "cell_type": "code",
      "source": [
        "def encryptADFGVX(plaintext, key, tabel):\n",
        "    # mengubah plaintext dan key ke huruf kapital dan menghilangkan spasi\n",
        "    plaintext = plaintext.upper()\n",
        "    plaintext = plaintext.replace(' ', '')\n",
        "    key = key.upper()\n",
        "\n",
        "    # mengubah plaintext berdasarkan tabel ADFGVX tetapi masih dalam bentuk \n",
        "    # index baris dan index colom\n",
        "    chipertext = []\n",
        "    for i in plaintext:\n",
        "        x = (np.asarray(np.where(tabel == i)).T.tolist())\n",
        "        chipertext.extend([x[0][0], x[0][1]])\n",
        "    # print(chipertext) #debug\n",
        "\n",
        "    # mengubah hasil yang masih berupa angka index ke karakter ADFGVX\n",
        "    adfgvx = ['A', 'D', 'F', 'G', 'V', 'X']\n",
        "    chipertext = list(map(lambda x: adfgvx[x], chipertext))\n",
        "    # print(chipertext) #debug\n",
        "    \n",
        "    # memberikan padding apabila terdapat space yang kosong\n",
        "    col = len(key)\n",
        "    row = int(math.ceil(len(chipertext) / col))\n",
        "    padding = int((row * col) - len(chipertext))\n",
        "    chipertext.extend('X' * padding)\n",
        "    # print(chipertext) #debug\n",
        "\n",
        "    # mengubah ke dalam bentuk matrix dengan ukuran kolom = panjang key\n",
        "    matrix = np.array(chipertext).reshape(row, col)\n",
        "    # print(matrix) #debug\n",
        "\n",
        "    # mengurutkan kolom berdasarkan urutan alfabet pada key\n",
        "    # serta memasukkan setiap kolom ke hasil akhir chipertext\n",
        "    keySorted = sorted(list(key))\n",
        "    chipertext = ''\n",
        "    for i in keySorted:\n",
        "        idx = key.index(i)\n",
        "        for j in range(row):\n",
        "            chipertext += matrix[j][idx]\n",
        "    print(chipertext)"
      ],
      "metadata": {
        "id": "q3ETZamkfOzR"
      },
      "execution_count": 94,
      "outputs": []
    },
    {
      "cell_type": "markdown",
      "source": [
        "## dekripsi"
      ],
      "metadata": {
        "id": "oNlbdSp6yBPU"
      }
    },
    {
      "cell_type": "code",
      "source": [
        "def decryptADFGVX(chipertext, key, tabel):\n",
        "    # mengubah chipertext dan key ke huruf kapital\n",
        "    chipertext = chipertext.upper()\n",
        "    key = key.upper()\n",
        "\n",
        "    # menentukan ukuran dari matrix dengan ukuran kolom = panjang key\n",
        "    col = len(key)\n",
        "    row = int(len(chipertext) / col)\n",
        "\n",
        "    # mengubah chipertext ke dalam bentuk matrix\n",
        "    matrix = np.array(list(chipertext)).reshape(col, row).transpose()\n",
        "    # print(matrix) #debug\n",
        "\n",
        "    # mengembalikan urutan kolom berdasarkan key\n",
        "    # kemudian memasukkan tiap baris ke dalam dechipertext 1\n",
        "    keySorted = sorted(list(key))\n",
        "    dechipertext = []\n",
        "    for i in range(row):\n",
        "        for j in key:\n",
        "            idx = keySorted.index(j)\n",
        "            dechipertext.append(matrix[i][idx])\n",
        "    # print(dechipertext) #debug\n",
        "\n",
        "    # mengubah bentuk 'ADFGVX' menjadi bentuk index baris dan kolom\n",
        "    adfgvx = ['A', 'D', 'F', 'G', 'V', 'X']\n",
        "    dechipertext = list(map(lambda x: adfgvx.index(x), dechipertext))\n",
        "    # print(dechipertext) #debug\n",
        "\n",
        "    # mengubah bentuk index bari dan kolom berdasarkan tabel ADFGVX dan memasukkan\n",
        "    # ke hasil akhir dechipertext\n",
        "    dechipertext2 = ''\n",
        "    for i in range(1, len(dechipertext), 2):\n",
        "        row = dechipertext[i-1]\n",
        "        col = dechipertext[i]\n",
        "        x = tabel[row][col]\n",
        "\n",
        "        dechipertext2 += x\n",
        "    print(dechipertext2)"
      ],
      "metadata": {
        "id": "ucSssvL3vLE5"
      },
      "execution_count": 95,
      "outputs": []
    },
    {
      "cell_type": "markdown",
      "source": [
        "## test"
      ],
      "metadata": {
        "id": "GDAFgfSbyGOq"
      }
    },
    {
      "cell_type": "code",
      "source": [
        "encryptADFGVX(\"ini plaintext\", \"cab\", tabel)"
      ],
      "metadata": {
        "colab": {
          "base_uri": "https://localhost:8080/"
        },
        "id": "yO4NI8gXiDv_",
        "outputId": "b0f4f08f-9e28-4d77-a6e3-b2b924395feb"
      },
      "execution_count": 96,
      "outputs": [
        {
          "output_type": "stream",
          "name": "stdout",
          "text": [
            "ADFDADVDDAGVDGVGDFGADFAF\n"
          ]
        }
      ]
    },
    {
      "cell_type": "code",
      "source": [
        "decryptADFGVX('ADFDADVDDAGVDGVGDFGADFAF', 'cab', tabel)"
      ],
      "metadata": {
        "colab": {
          "base_uri": "https://localhost:8080/"
        },
        "id": "sxEFNNKvyai0",
        "outputId": "b08e775d-04a9-4af3-ee33-bdfaf43c0f4a"
      },
      "execution_count": 97,
      "outputs": [
        {
          "output_type": "stream",
          "name": "stdout",
          "text": [
            "INIPLAINTEXT\n"
          ]
        }
      ]
    }
  ],
  "metadata": {
    "colab": {
      "provenance": [],
      "collapsed_sections": []
    },
    "kernelspec": {
      "display_name": "Python 3",
      "name": "python3"
    },
    "language_info": {
      "name": "python"
    }
  },
  "nbformat": 4,
  "nbformat_minor": 0
}