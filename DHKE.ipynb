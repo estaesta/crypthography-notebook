{
  "nbformat": 4,
  "nbformat_minor": 0,
  "metadata": {
    "colab": {
      "provenance": []
    },
    "kernelspec": {
      "name": "python3",
      "display_name": "Python 3"
    },
    "language_info": {
      "name": "python"
    }
  },
  "cells": [
    {
      "cell_type": "markdown",
      "source": [
        "Nama : Ahmad Foresta Azhar Zen\n",
        "\n",
        "NIM : 205150201111051"
      ],
      "metadata": {
        "id": "bUdZC-tJLfrf"
      }
    },
    {
      "cell_type": "markdown",
      "source": [
        "# DHKE"
      ],
      "metadata": {
        "id": "LEdslcQrLm7y"
      }
    },
    {
      "cell_type": "markdown",
      "source": [
        "DHKE (Diffie-Helman key exchang) merupakan suatu metode untuk bertukar key secara aman.\n",
        "\n",
        "DHKE dilakukan dengan menggunakan formula\n",
        "\n",
        "$y = g^x \\mod p$\n",
        "\n",
        "\n",
        "\n",
        "di mana x adalah secret key, g bilangan sembarang, dan p bilangan prima.\n",
        "\n",
        "g dan p telah ditentukan oleh kedua pihak dan sama.\n",
        "\n",
        "A memasukkan secret key-nya ke formula lalu mengirimnya ke B.\n",
        "\n",
        "B memasukkan secret key-nya ke formula lalu mengirimnya ke A.\n",
        "\n",
        "A memasukkan hasil yang dikirim oleh B menggantikan g pada formula.\n",
        "\n",
        "B memasukkan hasil yang dikirim oleh A menggantikan g pada formula.\n",
        "\n",
        "kedua hasil tersebut akan bernilai identik dan digunakan sebagai shared key"
      ],
      "metadata": {
        "id": "BMsz0F7ULpya"
      }
    },
    {
      "cell_type": "markdown",
      "source": [
        "$y = g^x \\mod p$"
      ],
      "metadata": {
        "id": "rrFTz5TMJqDD"
      }
    },
    {
      "cell_type": "code",
      "source": [
        "# rumus yang digunakan pada dhke\n",
        "def dhke(g, x, p):\n",
        "    return g ** x % p"
      ],
      "metadata": {
        "id": "mqhmtJDc_6ea"
      },
      "execution_count": null,
      "outputs": []
    },
    {
      "cell_type": "markdown",
      "source": [
        "fungsi untuk mendapatkan shared key"
      ],
      "metadata": {
        "id": "XURwqaojKxNa"
      }
    },
    {
      "cell_type": "code",
      "execution_count": null,
      "metadata": {
        "id": "jhB1ucqPOLD8"
      },
      "outputs": [],
      "source": [
        "def dhkeSharedKey(xa, xb, g, p):\n",
        "    #xa secret key a\n",
        "    #xb secret key b\n",
        "    \n",
        "    # menghitung ya\n",
        "    ya = dhke(g,xa, p)\n",
        "    # ya dikirimkan ke b\n",
        "\n",
        "    #menghitung yb\n",
        "    yb = dhke(g,xb, p)\n",
        "    # yb dikirimkan ke a\n",
        "\n",
        "    # a menerima yb dan menghitung shared key\n",
        "    skb = dhke(yb, xa, p)\n",
        "\n",
        "    # b menerima ya dan menghitung shared key\n",
        "    ska = dhke(ya, xb, p)\n",
        "\n",
        "    if(skb==ska):\n",
        "        return ska"
      ]
    },
    {
      "cell_type": "markdown",
      "source": [
        "test fungsi dhkeSharedKey()"
      ],
      "metadata": {
        "id": "E29-CtaRK1gl"
      }
    },
    {
      "cell_type": "code",
      "source": [
        "dhkeSharedKey(4, 6, 2, 19)"
      ],
      "metadata": {
        "colab": {
          "base_uri": "https://localhost:8080/"
        },
        "id": "jBqsz9j2BTUo",
        "outputId": "0d395209-9063-4583-ca5a-dd40fcacae32"
      },
      "execution_count": null,
      "outputs": [
        {
          "output_type": "execute_result",
          "data": {
            "text/plain": [
              "7"
            ]
          },
          "metadata": {},
          "execution_count": 22
        }
      ]
    },
    {
      "cell_type": "markdown",
      "source": [
        "untuk menyerang DHKE, penyerang akan melakukan sniffing untuk mendapatkan hasil pertama yang dikirmkan oleh a kepada b dan sebaliknya.\n",
        "\n",
        "penyerang juga harus mengetahui nilai g dan p yang digunakan.\n",
        "\n",
        "penyerang melakukan bruteforce untuk mencari secret key milik A dan B.\n",
        "\n",
        "penyerang menggunakan secret key milik A dan B untuk mencari shared key mengguanakan DHKE."
      ],
      "metadata": {
        "id": "sJrKhvuVpYFV"
      }
    },
    {
      "cell_type": "markdown",
      "source": [
        "fungsi untuk mencari shared key berdasarkan hasil sniffing"
      ],
      "metadata": {
        "id": "5L3_txRlK72i"
      }
    },
    {
      "cell_type": "code",
      "source": [
        "def attackDhke(p1, p2, g, p):\n",
        "    #p1 hasil sniffing 1\n",
        "    #p2 hasil sniffing 2\n",
        "    \n",
        "    # mencari x1 (secret key 1)\n",
        "    stop = False\n",
        "    i = 0\n",
        "    while(not stop):\n",
        "        # p1 = dhke(g, x, p), x?\n",
        "        i+=1\n",
        "        if(p1 == dhke(g, i, p)):\n",
        "            stop = True\n",
        "            x1 = i\n",
        "    \n",
        "    # mencari x2 (secret key 2)\n",
        "    stop = False\n",
        "    i = 0\n",
        "    while(not stop):\n",
        "        # p2 = dhke(g, x, p), x?\n",
        "        i+=1\n",
        "        if(p2 == dhke(g, i, p)):\n",
        "            stop = True\n",
        "            x2 = i\n",
        "\n",
        "    # mencari shared key dari secret key yang telah ditemukan\n",
        "    return dhkeSharedKey(x1, x2, g, p)"
      ],
      "metadata": {
        "id": "W-iGfpssFTQB"
      },
      "execution_count": null,
      "outputs": []
    },
    {
      "cell_type": "markdown",
      "source": [
        "test fungsi attackDhke()"
      ],
      "metadata": {
        "id": "cb9TAqHJLWfB"
      }
    },
    {
      "cell_type": "code",
      "source": [
        "attackDhke(4, 10, 5, 23)"
      ],
      "metadata": {
        "colab": {
          "base_uri": "https://localhost:8080/"
        },
        "id": "0JWAUGxQHl3J",
        "outputId": "91bec3bf-6038-4f28-fee9-982b2c3ce0d5"
      },
      "execution_count": null,
      "outputs": [
        {
          "output_type": "execute_result",
          "data": {
            "text/plain": [
              "18"
            ]
          },
          "metadata": {},
          "execution_count": 24
        }
      ]
    }
  ]
}