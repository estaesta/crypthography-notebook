{
  "nbformat": 4,
  "nbformat_minor": 0,
  "metadata": {
    "colab": {
      "provenance": [],
      "collapsed_sections": []
    },
    "kernelspec": {
      "name": "python3",
      "display_name": "Python 3"
    },
    "language_info": {
      "name": "python"
    }
  },
  "cells": [
    {
      "cell_type": "markdown",
      "source": [
        "Nama : Ahmad Foresta Azhar Zen\n",
        "\n",
        "NIM : 205150201111051"
      ],
      "metadata": {
        "id": "QhfBuSBWPvxK"
      }
    },
    {
      "cell_type": "markdown",
      "source": [
        "# Viginere\n"
      ],
      "metadata": {
        "id": "LUPz9IgY81hL"
      }
    },
    {
      "cell_type": "markdown",
      "source": [
        "Kriptografi menggunakan viginere dilakukan dengan melakukan subtitusi setiap karakter pada plaintext menggunakan tabel viginere. Tabel viginere berukuran 26 x 26 apabila tidak menggunakan spasi, dan 27 x 27 apabila menggunakan spasi.\n",
        "\n",
        "![Image of viginere table](https://crypto.interactive-maths.com/uploads/1/1/3/4/11345755/1889186.jpg?459)\n",
        "\n",
        "key dari viginere berupa alfabet.\n",
        "setiap karakter pada plaintext digeser berdasarkan karakter pada kunci. misal sebuah plaintext \"ABCABC\" di enkripsi menggunakan viginere dengan ke \"BCD\", maka karakter pertama disubtitusi dengan baris \"A\" kolom \"B\", yaitu \"B\". karkter kedua disubtitusi dengan baris \"B\" kolom \"C\" yaitu D. dan begitu seterusny. Key tersebut diulang ulang disesuaikan jumlah karakter pada plaintext. sehingga nantinya menghasilkan chipertext \"BDFBDF\"."
      ],
      "metadata": {
        "id": "Q8gCBzv68_dE"
      }
    },
    {
      "cell_type": "markdown",
      "source": [
        "# Implementasi pada bahasa pemograman python"
      ],
      "metadata": {
        "id": "-CcUs2VMELoX"
      }
    },
    {
      "cell_type": "markdown",
      "source": [
        "Pada python, suatu karakter bisa diubah menjadi bentuk integer berdasarkan tabel ascii menggunakan fungsi ord(). sebaliknya, untuk mengubah integer menjadi karakter bisa menggunakan fungsi chr().\n",
        "\n",
        "pertama-tama setiap karakter pada plaintext diubah menjadi huruf kapital. pada setiap karakter diubah menjadi integer kemudian dikurangi dengan 65 yang merupakan bentuk integer dari 'A'. begitupun pada key setiap karakter diubah menjadi integer kemudian dikurangi dengan 65. kemudian plaintext dijumlahkan dengan key. lalu dimodulus 26 karena setelah karakter z kembali ke a. setelah itu hasil penjumlahannya ditambah lagi dengan 65 kemudian diubah menjadi bentuk karakter lagi menggunakan fungsi chr()."
      ],
      "metadata": {
        "id": "6Jrr8vyUESDP"
      }
    },
    {
      "cell_type": "markdown",
      "source": [
        "## enkripsi"
      ],
      "metadata": {
        "id": "vFMD1uZxOOUN"
      }
    },
    {
      "cell_type": "code",
      "source": [
        "def encrypt_viginere(key, text, space=False):\n",
        "    # viginere yang menggunakan spasi\n",
        "    if space:\n",
        "        # mengecek apakah plaintext dan key merupakan alfabet atau spasi\n",
        "        if not all(x.isalpha() or x.isspace() for x in key):\n",
        "            print(\"key harus alfabet atau spasi\")\n",
        "            return \n",
        "        if not all(x.isalpha() or x.isspace() for x in text):\n",
        "            print(\"text harus alfabet atau spasi\")\n",
        "            return \n",
        "        # mengubah plaintext dan key ke huruf kapital\n",
        "        key = key.upper()\n",
        "        text = text.upper()\n",
        "        # mengubah spasi pada plaintext dan key menjadi '[' yang meurpakan karakter setelah 'Z' pada ascii\n",
        "        key = key.replace(\" \", \"[\")\n",
        "        text = text.replace(\" \", \"[\")\n",
        "        chipertext = \"\"\n",
        "        # pada setiap karakter pada plaintext dilakukan operasi penambahan dengan key\n",
        "        for i in range(len(text)):\n",
        "            chipertext += chr((ord(text[i]) - 65 + ord(key[i % len(key)]) - 65)%27 + 65)\n",
        "        # mengubah kembali '[' menjadi spasi\n",
        "        chipertext = chipertext.replace(\"[\", \" \")\n",
        "        return chipertext\n",
        "\n",
        "    # viginere tanpa spasi\n",
        "\n",
        "    # mengecek apakah plaintext dan key merupakan alfabet\n",
        "    if not key.isalpha():\n",
        "        print(\"key harus alfabet\")\n",
        "        return \n",
        "    if not all(x.isalpha() or x.isspace() for x in text):\n",
        "        print(\"text harus alfabet atau spasi\")\n",
        "        return \n",
        "    # mengubah plaintext dan key ke huruf kapital\n",
        "    key = key.upper()\n",
        "    text = text.upper()\n",
        "    # menghilangkan spasi\n",
        "    text = text.replace(\" \", \"\")\n",
        "    chipertext = \"\"\n",
        "    # pada setiap karakter pada plaintext dilakukan operasi penambahan dengan key\n",
        "    for i in range(len(text)):\n",
        "        chipertext += chr((ord(text[i]) - 65 + ord(key[i % len(key)]) - 65 )%26 + 65)\n",
        "    return chipertext"
      ],
      "metadata": {
        "id": "7njpw_jJfkJR"
      },
      "execution_count": null,
      "outputs": []
    },
    {
      "cell_type": "markdown",
      "source": [
        "## dekripsi"
      ],
      "metadata": {
        "id": "auaJQZ2AORH4"
      }
    },
    {
      "cell_type": "code",
      "source": [
        "def decrypt_viginere(key, text, space=False):\n",
        "    # viginere yang menggunakan spasi\n",
        "    if space:\n",
        "        # mengecek apakah plaintext dan key merupakan alfabet atau spasi\n",
        "        if not all(x.isalpha() or x.isspace() for x in key):\n",
        "            print(\"key harus alfabet atau spasi\")\n",
        "            return\n",
        "        if not all(x.isalpha() or x.isspace() for x in text):\n",
        "            print(\"text harus alfabet atau spasi\")\n",
        "            return \n",
        "        # mengubah plaintext dan key ke huruf kapital\n",
        "        key = key.upper()\n",
        "        text = text.upper()\n",
        "        # mengubah spasi pada plaintext dan key menjadi '[' yang meurpakan karakter setelah 'Z' pada ascii\n",
        "        key = key.replace(\" \", \"[\")\n",
        "        text = text.replace(\" \", \"[\")\n",
        "        plaintext = \"\"\n",
        "        for i in range(len(text)):\n",
        "            # pada setiap karakter pada plaintext dilakukan operasi pengurangan dengan key\n",
        "            plaintext += chr(((ord(text[i]) - 65) - (ord(key[i % len(key)]) - 65))%27 + 65)\n",
        "            # mengubah kembali '[' menjadi spasi\n",
        "            plaintext = plaintext.replace(\"[\", \" \")\n",
        "        return plaintext\n",
        "\n",
        "    # viginere tanpa spasi\n",
        "    \n",
        "    # mengecek apakah plaintext dan key merupakan alfabet\n",
        "    if not key.isalpha():\n",
        "        print(\"key harus alfabet\")\n",
        "        return \n",
        "    if not all(x.isalpha() or x.isspace() for x in text):\n",
        "        print(\"text harus alfabet atau spasi\")\n",
        "        return \n",
        "    # mengubah plaintext dan key ke huruf kapital\n",
        "    key = key.upper()\n",
        "    text = text.upper()\n",
        "    # menghilangkan spasi\n",
        "    text = text.replace(\" \", \"\")\n",
        "    plaintext = \"\"\n",
        "    # pada setiap karakter pada plaintext dilakukan operasi penambahan dengan key\n",
        "    for i in range(len(text)):\n",
        "        plaintext += chr(((ord(text[i]) - 65) - (ord(key[i % len(key)]) - 65 ))%26 + 65)\n",
        "    return plaintext"
      ],
      "metadata": {
        "id": "FYyNikuufrkn"
      },
      "execution_count": null,
      "outputs": []
    },
    {
      "cell_type": "markdown",
      "source": [
        "## Testing dengan spasi"
      ],
      "metadata": {
        "id": "FWRTpgIt1KtE"
      }
    },
    {
      "cell_type": "code",
      "execution_count": null,
      "metadata": {
        "id": "b6b6ebQad9Wj"
      },
      "outputs": [],
      "source": [
        "plaintext = \"Ini adalah plaintext\"\n",
        "key = \"keyword\""
      ]
    },
    {
      "cell_type": "code",
      "source": [
        "chipertext = encrypt_viginere(key, plaintext, space=True)\n",
        "chipertext"
      ],
      "metadata": {
        "colab": {
          "base_uri": "https://localhost:8080/",
          "height": 36
        },
        "id": "5zbgDlg1fk6G",
        "outputId": "d3322647-2b65-4f87-beba-60becb26b375"
      },
      "execution_count": null,
      "outputs": [
        {
          "output_type": "execute_result",
          "data": {
            "text/plain": [
              "'SRFVOUDVEEVCBDSRQ KJ'"
            ],
            "application/vnd.google.colaboratory.intrinsic+json": {
              "type": "string"
            }
          },
          "metadata": {},
          "execution_count": 91
        }
      ]
    },
    {
      "cell_type": "code",
      "source": [
        "decrypted_text = decrypt_viginere(key, chipertext, space=True)\n",
        "decrypted_text"
      ],
      "metadata": {
        "colab": {
          "base_uri": "https://localhost:8080/",
          "height": 36
        },
        "id": "0WbBDiP7z5My",
        "outputId": "38ff74cc-5cd8-4959-b9cd-ff924ed5454f"
      },
      "execution_count": null,
      "outputs": [
        {
          "output_type": "execute_result",
          "data": {
            "text/plain": [
              "'INI ADALAH PLAINTEXT'"
            ],
            "application/vnd.google.colaboratory.intrinsic+json": {
              "type": "string"
            }
          },
          "metadata": {},
          "execution_count": 92
        }
      ]
    },
    {
      "cell_type": "markdown",
      "source": [
        "## Testing tanpa spasi"
      ],
      "metadata": {
        "id": "_Xm0JqzV1IJD"
      }
    },
    {
      "cell_type": "code",
      "source": [
        "chipertext = encrypt_viginere(key, plaintext)\n",
        "chipertext"
      ],
      "metadata": {
        "colab": {
          "base_uri": "https://localhost:8080/",
          "height": 36
        },
        "id": "oY6FK5w709-e",
        "outputId": "6628fc6d-3626-4e97-a757-9013ad3dc879"
      },
      "execution_count": null,
      "outputs": [
        {
          "output_type": "execute_result",
          "data": {
            "text/plain": [
              "'SRGWRROKLNHOZQDIVP'"
            ],
            "application/vnd.google.colaboratory.intrinsic+json": {
              "type": "string"
            }
          },
          "metadata": {},
          "execution_count": 93
        }
      ]
    },
    {
      "cell_type": "code",
      "source": [
        "decrypted_text = decrypt_viginere(key, chipertext)\n",
        "decrypted_text"
      ],
      "metadata": {
        "colab": {
          "base_uri": "https://localhost:8080/",
          "height": 36
        },
        "id": "-A5YxwPw0_5n",
        "outputId": "d9e6254a-8137-4c08-f768-a5c9546988fa"
      },
      "execution_count": null,
      "outputs": [
        {
          "output_type": "execute_result",
          "data": {
            "text/plain": [
              "'INIADALAHPLAINTEXT'"
            ],
            "application/vnd.google.colaboratory.intrinsic+json": {
              "type": "string"
            }
          },
          "metadata": {},
          "execution_count": 94
        }
      ]
    },
    {
      "cell_type": "markdown",
      "source": [
        "## testing dengan plaintext atau key yang tidak sesuai"
      ],
      "metadata": {
        "id": "5W4CH9gzGrhK"
      }
    },
    {
      "cell_type": "code",
      "source": [
        "plaintext = \"Ini adalah 45plaintext\"\n",
        "key = \"keyword45\""
      ],
      "metadata": {
        "id": "FwgBPPXaG-oc"
      },
      "execution_count": null,
      "outputs": []
    },
    {
      "cell_type": "code",
      "source": [
        "chipertext = encrypt_viginere(key, plaintext)\n",
        "chipertext"
      ],
      "metadata": {
        "id": "rf2y9I-mHFCn",
        "outputId": "1c5b03c2-ea69-4bf6-b463-4835f873e37d",
        "colab": {
          "base_uri": "https://localhost:8080/"
        }
      },
      "execution_count": null,
      "outputs": [
        {
          "output_type": "stream",
          "name": "stdout",
          "text": [
            "key harus alfabet\n"
          ]
        }
      ]
    }
  ]
}